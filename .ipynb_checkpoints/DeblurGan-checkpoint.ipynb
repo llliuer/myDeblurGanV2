{
 "cells": [
  {
   "cell_type": "code",
   "execution_count": 3,
   "metadata": {},
   "outputs": [],
   "source": [
    "import yaml"
   ]
  },
  {
   "cell_type": "code",
   "execution_count": 4,
   "metadata": {
    "pycharm": {
     "is_executing": false
    }
   },
   "outputs": [
    {
     "name": "stderr",
     "output_type": "stream",
     "text": [
      "/Users/llliuer/Desktop/大三上/创新实践/图像修复/code/MY_DeblurGANv2/venv/lib/python3.7/site-packages/ipykernel_launcher.py:2: YAMLLoadWarning: calling yaml.load() without Loader=... is deprecated, as the default Loader is unsafe. Please read https://msg.pyyaml.org/load for full details.\n",
      "  \n"
     ]
    }
   ],
   "source": [
    "\n",
    "\n",
    "with open('config/config.yaml', 'r') as f:\n",
    "    config = yaml.load(f)"
   ]
  },
  {
   "cell_type": "code",
   "execution_count": 5,
   "metadata": {},
   "outputs": [
    {
     "data": {
      "text/plain": [
       "{'project': 'deblur_gan',\n",
       " 'experiment_desc': 'fpn',\n",
       " 'train': {'files_a': '/datasets/train/**/**/*.png',\n",
       "  'files_b': '/datasets/train/**/**/*.png',\n",
       "  'size': 256,\n",
       "  'crop': 'random',\n",
       "  'preload': False,\n",
       "  'preload_size': 0,\n",
       "  'bounds': [0, 0.9],\n",
       "  'scope': 'geometric',\n",
       "  'corrupt': [{'name': 'cutout',\n",
       "    'prob': 0.5,\n",
       "    'num_holes': 3,\n",
       "    'max_h_size': 25,\n",
       "    'max_w_size': 25},\n",
       "   {'name': 'jpeg', 'quality_lower': 70, 'quality_upper': 90},\n",
       "   {'name': 'motion_blur'},\n",
       "   {'name': 'median_blur'},\n",
       "   {'name': 'gamma'},\n",
       "   {'name': 'rgb_shift'},\n",
       "   {'name': 'hsv_shift'},\n",
       "   {'name': 'sharpen'}]},\n",
       " 'val': {'files_a': '/datasets/train/**/**/*.png',\n",
       "  'files_b': '/datasets/train/**/**/*.png',\n",
       "  'size': 256,\n",
       "  'scope': 'geometric',\n",
       "  'crop': 'center',\n",
       "  'preload': False,\n",
       "  'preload_size': 0,\n",
       "  'bounds': [0.9, 1],\n",
       "  'corrupt': [{'name': 'cutout',\n",
       "    'prob': 0.5,\n",
       "    'num_holes': 3,\n",
       "    'max_h_size': 25,\n",
       "    'max_w_size': 25},\n",
       "   {'name': 'jpeg', 'quality_lower': 70, 'quality_upper': 90},\n",
       "   {'name': 'motion_blur'},\n",
       "   {'name': 'median_blur'},\n",
       "   {'name': 'gamma'},\n",
       "   {'name': 'rgb_shift'},\n",
       "   {'name': 'hsv_shift'},\n",
       "   {'name': 'sharpen'}]},\n",
       " 'phase': 'train',\n",
       " 'warmup_num': 3,\n",
       " 'model': {'g_name': 'fpn_inception',\n",
       "  'blocks': 9,\n",
       "  'd_name': 'double_gan',\n",
       "  'd_layers': 3,\n",
       "  'content_loss': 'perceptual',\n",
       "  'adv_lambda': 0.001,\n",
       "  'disc_loss': 'wgan-gp',\n",
       "  'learn_residual': True,\n",
       "  'norm_layer': 'instance',\n",
       "  'dropout': True},\n",
       " 'num_epochs': 200,\n",
       " 'train_batches_per_epoch': 1000,\n",
       " 'val_batches_per_epoch': 100,\n",
       " 'batch_size': 1,\n",
       " 'image_size': [256, 256],\n",
       " 'optimizer': {'name': 'adam', 'lr': 0.0001},\n",
       " 'scheduler': {'name': 'linear', 'start_epoch': 50, 'min_lr': 1e-07}}"
      ]
     },
     "execution_count": 5,
     "metadata": {},
     "output_type": "execute_result"
    }
   ],
   "source": [
    "config"
   ]
  },
  {
   "cell_type": "code",
   "execution_count": null,
   "metadata": {},
   "outputs": [],
   "source": []
  }
 ],
 "metadata": {
  "kernelspec": {
   "display_name": "Python 3",
   "language": "python",
   "name": "python3"
  },
  "language_info": {
   "codemirror_mode": {
    "name": "ipython",
    "version": 3
   },
   "file_extension": ".py",
   "mimetype": "text/x-python",
   "name": "python",
   "nbconvert_exporter": "python",
   "pygments_lexer": "ipython3",
   "version": "3.7.4"
  }
 },
 "nbformat": 4,
 "nbformat_minor": 1
}
